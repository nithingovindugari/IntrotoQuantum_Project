{
  "nbformat": 4,
  "nbformat_minor": 0,
  "metadata": {
    "colab": {
      "provenance": [],
      "authorship_tag": "ABX9TyNp4r+1Jny0rY41Ydbnd2U3",
      "include_colab_link": true
    },
    "kernelspec": {
      "name": "python3",
      "display_name": "Python 3"
    },
    "language_info": {
      "name": "python"
    }
  },
  "cells": [
    {
      "cell_type": "markdown",
      "metadata": {
        "id": "view-in-github",
        "colab_type": "text"
      },
      "source": [
        "<a href=\"https://colab.research.google.com/github/nithingovindugari/IntrotoQuantum_Project/blob/main/Project_Code_phase1.ipynb\" target=\"_parent\"><img src=\"https://colab.research.google.com/assets/colab-badge.svg\" alt=\"Open In Colab\"/></a>"
      ]
    },
    {
      "cell_type": "code",
      "source": [
        "\n",
        "import numpy as np, math\n",
        "\n",
        "#For Not gate\n",
        "def Xgate(a,b):\n",
        "    matrix = np.array([[float(a)],[float(b)]])\n",
        "    X = np.array([[0,1],[1,0]])\n",
        "    # result = X.dot(matrix)\n",
        "    result = np.matmul(X,matrix)\n",
        "    for i in range(0, len(matrix)):\n",
        "        print('{} {} '.format(X[i],matrix[i]))\n",
        "    print('\\n')       \n",
        "    print(result)\n",
        " \n",
        "# Calling Not Gate \n",
        "print(\"Enter  two values for 1 qubit Not gate\")\n",
        "y = Xgate(int(input(\"Enter the 1 st value  --   \")),\\\n",
        "            int(input('Enter the 2nd value   --   ')))"
      ],
      "metadata": {
        "id": "KyRcQoKtkhEf",
        "colab": {
          "base_uri": "https://localhost:8080/"
        },
        "outputId": "b4793b9f-cbc3-44b3-9ad1-504c52eff41b"
      },
      "execution_count": null,
      "outputs": [
        {
          "output_type": "stream",
          "name": "stdout",
          "text": [
            "Enter  two values for 1 qubit Not gate\n",
            "Enter the 1 st value  --   1\n",
            "Enter the 2nd value   --   0\n",
            "[0 1] [1.] \n",
            "[1 0] [0.] \n",
            "\n",
            "\n",
            "[[0.]\n",
            " [1.]]\n"
          ]
        }
      ]
    },
    {
      "cell_type": "code",
      "source": [
        "#XOR or CNOT Gate\n",
        "import numpy as np, math\n",
        "def XORgate(a,b,c,d):\n",
        "    matrix = np.array([[float(a)],[float(b)],[float(c)],[float(d)]])\n",
        "    XOR = np.array([[1,0,0,0],[0,1,0,0],[0,0,0,1],[0,0,1,0]])\n",
        "    result = np.matmul(XOR,matrix)\n",
        "    for i in range(0, len(matrix)):\n",
        "          print(('{} {} '.format(XOR[i],matrix[i])))\n",
        "    print('\\n')\n",
        "    print(result)\n",
        "\n",
        "print(\"Enter  two values for 2 qubit CNot/XOR gate and it will be in the form of [a,b,c,d]\")\n",
        "y = XORgate((int(input('Enter the 1 st value   --   '))),\\\n",
        "            (int(input('Enter the 2nd value    --   '))), \\\n",
        "            (int(input('Enter the 3rd value    --   '))),\\\n",
        "            (int(input('Enter the 4th  value   --   '))))\n"
      ],
      "metadata": {
        "id": "MIO5LcHwhrU7",
        "colab": {
          "base_uri": "https://localhost:8080/"
        },
        "outputId": "a2c31da3-8f21-4c19-844a-a4e1de1d71ca"
      },
      "execution_count": null,
      "outputs": [
        {
          "output_type": "stream",
          "name": "stdout",
          "text": [
            "Enter  two values for 2 qubit CNot/XOR gate and it will be in the form of [a,b,c,d]\n",
            "Enter the 1 st value   --   1\n",
            "Enter the 2nd value    --   0\n",
            "Enter the 3rd value    --   1\n",
            "Enter the 4th  value   --   0\n",
            "[1 0 0 0] [1.] \n",
            "[0 1 0 0] [0.] \n",
            "[0 0 0 1] [1.] \n",
            "[0 0 1 0] [0.] \n",
            "\n",
            "\n",
            "[[1.]\n",
            " [0.]\n",
            " [0.]\n",
            " [1.]]\n"
          ]
        }
      ]
    },
    {
      "cell_type": "code",
      "source": [
        "#Swap Gate\n",
        "\n",
        "import numpy as np, math\n",
        "def SWAPgate(a,b,c,d):\n",
        "    matrix = np.array([[float(a)],[float(b)],[float(c)],[float(d)]])\n",
        "    SWAP = np.array([[1,0,0,0],[0,0,1,0],[0,1,0,0],[0,0,0,1]])\n",
        "    result = np.matmul(SWAP,matrix)    \n",
        "    for i in range(0, len(matrix)):\n",
        "          print('{} {} '.format(SWAP[i],matrix[i]))\n",
        "    print('\\n')\n",
        "    print(result)\n",
        "\n",
        "#Calling SWAP gate  \n",
        "print(\"Enter  two values for 2 qubit SWAP gate and it will be in the form of [a,b,c,d]\")\n",
        "y = SWAPgate((int(input('Enter the 1 st value   --   '))),\\\n",
        "            (int(input('Enter the 2nd value    --   '))), \\\n",
        "            (int(input('Enter the 3rd value    --   '))),\\\n",
        "            (int(input('Enter the 4 th value   --   '))))"
      ],
      "metadata": {
        "id": "qE1S36jfxMus",
        "colab": {
          "base_uri": "https://localhost:8080/"
        },
        "outputId": "1d2875e5-d948-41f3-ec04-21856118a013"
      },
      "execution_count": null,
      "outputs": [
        {
          "output_type": "stream",
          "name": "stdout",
          "text": [
            "Enter  two values for 2 qubit SWAP gate and it will be in the form of [a,b,c,d]\n",
            "Enter the 1 st value   --   1\n",
            "Enter the 2nd value    --   1\n",
            "Enter the 3rd value    --   0\n",
            "Enter the 4 th value   --   1\n",
            "[1 0 0 0] [1.] \n",
            "[0 0 1 0] [1.] \n",
            "[0 1 0 0] [0.] \n",
            "[0 0 0 1] [1.] \n",
            "\n",
            "\n",
            "[[1.]\n",
            " [0.]\n",
            " [1.]\n",
            " [1.]]\n"
          ]
        }
      ]
    },
    {
      "cell_type": "code",
      "source": [
        "#one qubit phase shift gate\n",
        "import numpy as np, math\n",
        "def onebit_PS(a,b,phi):\n",
        "    matrix = np.array([[float(a)],[float(b)]])\n",
        "    onebit_PS = np.array([[1,0],[0,np.around(np.cos(phi), decimals=5)+1j*np.around(np.sin(phi), decimals=5)]])\n",
        "    result = np.matmul(onebit_PS,matrix)    \n",
        "    for i in range(0, len(matrix)):\n",
        "          print('{} {} '.format(onebit_PS[i],matrix[i]))\n",
        "    print('\\n')\n",
        "    print(result)\n",
        "  \n",
        "\n",
        "#Calling onebit phase shift gate  \n",
        "print(\"Enter  two values for 1 qubit phase shift gate and it will be in the form of [a,b,phase value]\")\n",
        "y = onebit_PS((int(input('Enter the 1 st value   --   '))),\\\n",
        "            (int(input('Enter the 2nd value    --   '))), \\\n",
        "            (float(input('Enter the phase value  --   '))))\n"
      ],
      "metadata": {
        "colab": {
          "base_uri": "https://localhost:8080/"
        },
        "id": "_luQjkOS4e3D",
        "outputId": "06fb7260-9f54-4719-fbf6-244549a8e059"
      },
      "execution_count": null,
      "outputs": [
        {
          "output_type": "stream",
          "name": "stdout",
          "text": [
            "Enter  two values for 1 qubit phase shift gate and it will be in the form of [a,b,phase value]\n",
            "Enter the 1 st value   --   0\n",
            "Enter the 2nd value    --   1\n",
            "Enter the phase value  --   3.14\n",
            "[1.+0.j 0.+0.j] [0.] \n",
            "[ 0.+0.j      -1.+0.00159j] [1.] \n",
            "\n",
            "\n",
            "[[ 0.+0.j     ]\n",
            " [-1.+0.00159j]]\n"
          ]
        }
      ]
    },
    {
      "cell_type": "code",
      "source": [
        "#Two qubit phase shift gate\n",
        "import numpy as np, math\n",
        "def twobit_PS(a,b,c,d,phi):\n",
        "    matrix = np.array([[float(a)],[float(b)],[float(c)],[float(d)]])\n",
        "    twobit_PS = np.array([[1,0,0,0],[0,1,0,0],[0,0,1,0],[0,0,0,np.around(np.cos(phi), decimals=5)+1j*np.around(np.sin(phi), decimals=5)]]) \n",
        "    result = np.matmul(twobit_PS,matrix)\n",
        "    for i in range(0, len(matrix)):\n",
        "        print('{} {} '.format(twobit_PS[i],matrix[i]))\n",
        "    print('\\n')\n",
        "    print(result)\n",
        "\n",
        "print(\"Enter  two values for two qubit phase shift gate and it will be in the form of [a,b,c,d, phase value]\")\n",
        "y = twobit_PS((int(input('Enter the 1st value    --   '))),\\\n",
        "            (int(input('Enter the 2nd value    --   '))), \\\n",
        "            (int(input('Enter the 3rd   value  --   '))),\\\n",
        "            (int(input('Enter the 4th value    --   '))),\\\n",
        "            (float(input('Enter the phase value  --   '))))"
      ],
      "metadata": {
        "id": "wy5-ywuu7v-4",
        "colab": {
          "base_uri": "https://localhost:8080/"
        },
        "outputId": "0e3bf3fd-5bde-499f-a36a-99b3d29a1641"
      },
      "execution_count": null,
      "outputs": [
        {
          "output_type": "stream",
          "name": "stdout",
          "text": [
            "Enter  two values for two qubit phase shift gate and it will be in the form of [a,b,c,d, phase value]\n",
            "Enter the 1st value    --   1\n",
            "Enter the 2nd value    --   0\n",
            "Enter the 3rd   value  --   1\n",
            "Enter the 4th value    --   1\n",
            "Enter the phase value  --   3.14\n",
            "[1.+0.j 0.+0.j 0.+0.j 0.+0.j] [1.] \n",
            "[0.+0.j 1.+0.j 0.+0.j 0.+0.j] [0.] \n",
            "[0.+0.j 0.+0.j 1.+0.j 0.+0.j] [1.] \n",
            "[ 0.+0.j       0.+0.j       0.+0.j      -1.+0.00159j] [1.] \n",
            "\n",
            "\n",
            "[[ 1.+0.j     ]\n",
            " [ 0.+0.j     ]\n",
            " [ 1.+0.j     ]\n",
            " [-1.+0.00159j]]\n"
          ]
        }
      ]
    },
    {
      "cell_type": "code",
      "source": [
        "import numpy as np, math\n",
        "def toffoli(a,b,c,d,e,f,g,h):\n",
        "      matrix = np.array([[float(a)],[float(b)],[float(c)],[float(d)],[float(e)],[float(f)],[float(g)],[float(h)]]) \n",
        "      toffoli = np.array([[1,0,0,0,0,0,0,0],[0,1,0,0,0,0,0,0],[0,0,1,0,0,0,0,0],[0,0,0,1,0,0,0,0],[0,0,0,0,1,0,0,0],[0,0,0,0,0,1,0,0],[0,0,0,0,0,0,0,1],[0,0,0,0,0,0,1,0]])\n",
        "      result = np.matmul(toffoli,matrix)  \n",
        "      for i in range(0, len(matrix)):\n",
        "            print('{} {} '.format(toffoli[i],matrix[i]))\n",
        "      print('\\n')\n",
        "      print(result)\n",
        "print(\"Enter  two values for 3 bit ccnot or toffoli gate and it will be in the form of [a,b,c,d,e,f,g,h]\")\n",
        "y = toffoli((int(input('Enter the 1 st value   --   '))),\\\n",
        "            (int(input('Enter the 2nd value    --   '))), \\\n",
        "            (int(input('Enter the 3rd value    --   '))),\\\n",
        "            (int(input('Enter the 4th value    --   '))),\\\n",
        "            (int(input('Enter the 5th value    --   '))),\\\n",
        "            (int(input('Enter the 6th value    --   '))),\\\n",
        "            (int(input('Enter the 7th value    --   '))),\\\n",
        "            (int(input('Enter the 8th value    --   '))))"
      ],
      "metadata": {
        "id": "UWIDf3h88UK_",
        "colab": {
          "base_uri": "https://localhost:8080/"
        },
        "outputId": "fdb831e4-2b5b-4de5-e74f-1491c105e7a9"
      },
      "execution_count": null,
      "outputs": [
        {
          "output_type": "stream",
          "name": "stdout",
          "text": [
            "Enter  two values for 3 bit ccnot or toffoli gate and it will be in the form of [a,b,c,d,e,f,g,h]\n",
            "Enter the 1 st value   --   0\n",
            "Enter the 2nd value    --   0\n",
            "Enter the 3rd value    --   0\n",
            "Enter the 4th value    --   0\n",
            "Enter the 5th value    --   0\n",
            "Enter the 6th value    --   0\n",
            "Enter the 7th value    --   1\n",
            "Enter the 8th value    --   0\n",
            "[1 0 0 0 0 0 0 0] [0.] \n",
            "[0 1 0 0 0 0 0 0] [0.] \n",
            "[0 0 1 0 0 0 0 0] [0.] \n",
            "[0 0 0 1 0 0 0 0] [0.] \n",
            "[0 0 0 0 1 0 0 0] [0.] \n",
            "[0 0 0 0 0 1 0 0] [0.] \n",
            "[0 0 0 0 0 0 0 1] [1.] \n",
            "[0 0 0 0 0 0 1 0] [0.] \n",
            "\n",
            "\n",
            "[[0.]\n",
            " [0.]\n",
            " [0.]\n",
            " [0.]\n",
            " [0.]\n",
            " [0.]\n",
            " [0.]\n",
            " [1.]]\n"
          ]
        }
      ]
    },
    {
      "cell_type": "code",
      "source": [
        "import numpy as np, math\n",
        "def five_Hgate(a,b,c,d,e,f,g,h,i,j,k,l,m,n,o,p,q,r,s,t,u,v,w,x,y,z,aa,bb,cc,dd,ee,ff):\n",
        "      H = 1/math.sqrt(2)*np.array([[1,1],[1,-1]])\n",
        "      matrix = np.array([[a],[b],[c],[d],[e],[f],[g],[h],[i],[j],[k],[l],[m], \\\n",
        "                         [n],[o],[p],[q],[r],[s],[t],[u],[v],[w],[x],[y],[z], \\\n",
        "                        [aa],[bb],[cc],[dd],[ee],[ff]]) \n",
        "      print(matrix)\n",
        "      five_Hgate = np.kron(H,np.kron(H,np.kron(H,np.kron(H,H))))\n",
        "      result = np.matmul(five_Hgate,matrix)\n",
        "      print('\\n','\\n'\"Find below output where five qubit Hadamard applied to above statp\")\n",
        "      print('\\n',result)\n",
        "print(\"Here standard base input is given as it is very big to take input below and it\\\n",
        " is dynamic and we can change value any time\" )\n",
        "\n",
        "print(\"It will be in the form of Hadamard gate applied to basis state \")    \n",
        "\n",
        "\n",
        "five_Hgate(1,0,0,0,0,0,0,0,0,0,0,0,0,0,0,0,0,0,0,0,0,0,0,0,0,0,0,0,0,0,0,0)\n",
        "\n",
        "\n"
      ],
      "metadata": {
        "id": "wTRWbkDmASXZ"
      },
      "execution_count": null,
      "outputs": []
    }
  ]
}