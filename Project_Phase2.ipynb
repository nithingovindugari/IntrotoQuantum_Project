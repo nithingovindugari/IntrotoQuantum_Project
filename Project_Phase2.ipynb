{
  "nbformat": 4,
  "nbformat_minor": 0,
  "metadata": {
    "colab": {
      "provenance": [],
      "authorship_tag": "ABX9TyOnA0uXRB2ZtEbq9EHYJxXp",
      "include_colab_link": true
    },
    "kernelspec": {
      "name": "python3",
      "display_name": "Python 3"
    },
    "language_info": {
      "name": "python"
    }
  },
  "cells": [
    {
      "cell_type": "markdown",
      "metadata": {
        "id": "view-in-github",
        "colab_type": "text"
      },
      "source": [
        "<a href=\"https://colab.research.google.com/github/nithingovindugari/IntrotoQuantum_Project/blob/main/Project_Phase2.ipynb\" target=\"_parent\"><img src=\"https://colab.research.google.com/assets/colab-badge.svg\" alt=\"Open In Colab\"/></a>"
      ]
    },
    {
      "cell_type": "code",
      "source": [
        "import numpy as np\n",
        "from math import sqrt"
      ],
      "metadata": {
        "id": "1D2C4qb-d5Gh"
      },
      "execution_count": null,
      "outputs": []
    },
    {
      "cell_type": "code",
      "source": [
        "def getTensor(matrices):\n",
        "    product = matrices[0]\n",
        "    for matrix in matrices[1:]:\n",
        "        product = np.kron(product,matrix)  ## np.kron stands for Kronecker product, the official name for tensor product\n",
        "    return product"
      ],
      "metadata": {
        "id": "MVpTKkSmd780"
      },
      "execution_count": null,
      "outputs": []
    },
    {
      "cell_type": "code",
      "source": [
        "def U(n, f_map):\n",
        "    \"\"\"Generate an oracle matrix based on the given function mapping.\"\"\"\n",
        "    # INSPIRED BY https://github.com/meownoid/quantum-python/blob/master/quantum.py\n",
        "    \n",
        "    num_qubits = n + 1\n",
        "    U = np.zeros((2**num_qubits, 2**num_qubits)) # Start with a matrix of zeroes.\n",
        "    \n",
        "    # Quantum state looks like IN-IN-...-IN-ANCILLA\n",
        "    for input_state in range(2**num_qubits): # For each possible input\n",
        "        input_string = input_state >> 1 # remove ANCILLA\n",
        "        output_qubit = (input_state & 1) ^ (f_map[input_string]) # remove IN, XOR with f(IN)\n",
        "        output_state = (input_string << 1) + output_qubit # the full state, with new OUT\n",
        "        U[input_state, output_state] = 1 # set that part of U to 1\n",
        "\n",
        "    return U"
      ],
      "metadata": {
        "id": "gI41ym7ld8jB"
      },
      "execution_count": null,
      "outputs": []
    },
    {
      "cell_type": "code",
      "source": [
        "def measure(n, state):\n",
        "    measurement = np.zeros(2**n)  # Initialize measurement result for n qubits in the first register\n",
        "    for index, value in enumerate(state):\n",
        "        measurement[index >> 1] += value * value  ## As the ancilla qubit is discarded, probabilities of the same kind, ie 100 and 101 will be combined\n",
        "\n",
        "    # Last step: Determine the type of function f\n",
        "    # f is constant if the probability of measuring |0> is positive\n",
        "    if (abs(measurement[0]) > 1e-10): \n",
        "        print(\"The function is constant.\")\n",
        "    else:\n",
        "        print(\"The function is balanced.\")"
      ],
      "metadata": {
        "id": "ZKmpz5EreA-_"
      },
      "execution_count": null,
      "outputs": []
    },
    {
      "cell_type": "code",
      "source": [
        "def Deutsch_Jozsa(n, f_map):\n",
        "    num_qubits = n + 1  # Plus one qubit and the second register, can be called as ancilla qubit\n",
        "    state_0 = np.array([[1],[0]])  # Standard state |0> as a column vector\n",
        "    I_gate = np.array([[1,0], [0,1]])  # Identity gate\n",
        "    X_gate = np.array([[0,1], [1,0]])  # NOT gate\n",
        "    H_gate = np.array([[1,1], [1,-1]])/sqrt(2)  # Hadamard gate\n",
        "    \n",
        "    ancilla = np.dot(X_gate, state_0)  # Create state |1> assigned to the ancilla\n",
        "    \n",
        "    # Create the a Hadamard transformation for all qubits and the state |ψ_0> \n",
        "    listStates = []\n",
        "    listGates_H = []\n",
        "    for i in range(n):\n",
        "        listStates.append(state_0)\n",
        "        listGates_H.append(H_gate)\n",
        "    listStates.append(ancilla)\n",
        "    listGates_H.append(H_gate)\n",
        "    psi_0 = getTensor(listStates)\n",
        "    composite_H = getTensor(listGates_H)\n",
        "    \n",
        "    # |ψ_1> is the dot product of the Hadamard transformation and |ψ_0>  \n",
        "    psi_1 = np.dot(composite_H, psi_0)\n",
        "\n",
        "    # Apply the oracle to |ψ_1>\n",
        "    psi_2 = np.dot(U(n, f_map), psi_1)\n",
        "\n",
        "    # H on all again\n",
        "    psi_3 = np.dot(composite_H, psi_2)\n",
        "\n",
        "    measure(n, psi_3)"
      ],
      "metadata": {
        "id": "9mOl3ZCbeCN2"
      },
      "execution_count": null,
      "outputs": []
    },
    {
      "cell_type": "code",
      "source": [],
      "metadata": {
        "id": "JL9g3NdNAiWj"
      },
      "execution_count": null,
      "outputs": []
    },
    {
      "cell_type": "code",
      "source": [],
      "metadata": {
        "id": "g-xa13ZKAjBV"
      },
      "execution_count": null,
      "outputs": []
    },
    {
      "cell_type": "code",
      "source": [
        "def main():\n",
        "    n = [2,3,3]  # Input the number of qubits\n",
        "    f_map = [[0,0,1,1],\n",
        "             [1,1,1,1,1,1,1,1],\n",
        "             [1,0,0,1,1,0,1,0]]  # Input the mapping functions\n",
        "    for index, value in enumerate(n):\n",
        "        Deutsch_Jozsa(n[index], f_map[index])  # Algorithm executed here"
      ],
      "metadata": {
        "id": "1XdpmockeGUT"
      },
      "execution_count": null,
      "outputs": []
    },
    {
      "cell_type": "code",
      "source": [
        "main()"
      ],
      "metadata": {
        "colab": {
          "base_uri": "https://localhost:8080/"
        },
        "id": "7x7skLQVeG68",
        "outputId": "8089990a-ca28-4745-aabb-41dd0d7bd6f6"
      },
      "execution_count": null,
      "outputs": [
        {
          "output_type": "stream",
          "name": "stdout",
          "text": [
            "The function is balanced.\n",
            "The function is constant.\n",
            "The function is balanced.\n"
          ]
        }
      ]
    },
    {
      "cell_type": "code",
      "source": [
        "!pip install qiskit"
      ],
      "metadata": {
        "colab": {
          "base_uri": "https://localhost:8080/"
        },
        "id": "XUSAsl5vAlJm",
        "outputId": "4f9573ed-7b72-4ef7-b920-71e5f4392f5e"
      },
      "execution_count": null,
      "outputs": [
        {
          "output_type": "stream",
          "name": "stdout",
          "text": [
            "Looking in indexes: https://pypi.org/simple, https://us-python.pkg.dev/colab-wheels/public/simple/\n",
            "Collecting qiskit\n",
            "  Downloading qiskit-0.39.3.tar.gz (13 kB)\n",
            "Collecting qiskit-terra==0.22.3\n",
            "  Downloading qiskit_terra-0.22.3-cp38-cp38-manylinux_2_17_x86_64.manylinux2014_x86_64.whl (4.8 MB)\n",
            "\u001b[K     |████████████████████████████████| 4.8 MB 12.7 MB/s \n",
            "\u001b[?25hCollecting qiskit-aer==0.11.1\n",
            "  Downloading qiskit_aer-0.11.1-cp38-cp38-manylinux_2_17_x86_64.manylinux2014_x86_64.whl (19.2 MB)\n",
            "\u001b[K     |████████████████████████████████| 19.2 MB 1.6 MB/s \n",
            "\u001b[?25hCollecting qiskit-ibmq-provider==0.19.2\n",
            "  Downloading qiskit_ibmq_provider-0.19.2-py3-none-any.whl (240 kB)\n",
            "\u001b[K     |████████████████████████████████| 240 kB 45.7 MB/s \n",
            "\u001b[?25hRequirement already satisfied: numpy>=1.16.3 in /usr/local/lib/python3.8/dist-packages (from qiskit-aer==0.11.1->qiskit) (1.21.6)\n",
            "Requirement already satisfied: scipy>=1.0 in /usr/local/lib/python3.8/dist-packages (from qiskit-aer==0.11.1->qiskit) (1.7.3)\n",
            "Requirement already satisfied: requests>=2.19 in /usr/local/lib/python3.8/dist-packages (from qiskit-ibmq-provider==0.19.2->qiskit) (2.23.0)\n",
            "Collecting websockets>=10.0\n",
            "  Downloading websockets-10.4-cp38-cp38-manylinux_2_5_x86_64.manylinux1_x86_64.manylinux_2_17_x86_64.manylinux2014_x86_64.whl (106 kB)\n",
            "\u001b[K     |████████████████████████████████| 106 kB 68.4 MB/s \n",
            "\u001b[?25hRequirement already satisfied: python-dateutil>=2.8.0 in /usr/local/lib/python3.8/dist-packages (from qiskit-ibmq-provider==0.19.2->qiskit) (2.8.2)\n",
            "Collecting requests-ntlm>=1.1.0\n",
            "  Downloading requests_ntlm-1.1.0-py2.py3-none-any.whl (5.7 kB)\n",
            "Requirement already satisfied: urllib3>=1.21.1 in /usr/local/lib/python3.8/dist-packages (from qiskit-ibmq-provider==0.19.2->qiskit) (1.24.3)\n",
            "Collecting websocket-client>=1.0.1\n",
            "  Downloading websocket_client-1.4.2-py3-none-any.whl (55 kB)\n",
            "\u001b[K     |████████████████████████████████| 55 kB 1.7 MB/s \n",
            "\u001b[?25hRequirement already satisfied: sympy>=1.3 in /usr/local/lib/python3.8/dist-packages (from qiskit-terra==0.22.3->qiskit) (1.7.1)\n",
            "Collecting ply>=3.10\n",
            "  Downloading ply-3.11-py2.py3-none-any.whl (49 kB)\n",
            "\u001b[K     |████████████████████████████████| 49 kB 4.3 MB/s \n",
            "\u001b[?25hRequirement already satisfied: dill>=0.3 in /usr/local/lib/python3.8/dist-packages (from qiskit-terra==0.22.3->qiskit) (0.3.6)\n",
            "Requirement already satisfied: psutil>=5 in /usr/local/lib/python3.8/dist-packages (from qiskit-terra==0.22.3->qiskit) (5.4.8)\n",
            "Collecting tweedledum<2.0,>=1.1\n",
            "  Downloading tweedledum-1.1.1-cp38-cp38-manylinux_2_12_x86_64.manylinux2010_x86_64.whl (929 kB)\n",
            "\u001b[K     |████████████████████████████████| 929 kB 56.1 MB/s \n",
            "\u001b[?25hCollecting symengine>=0.9\n",
            "  Downloading symengine-0.9.2-cp38-cp38-manylinux2010_x86_64.whl (37.5 MB)\n",
            "\u001b[K     |████████████████████████████████| 37.5 MB 1.3 MB/s \n",
            "\u001b[?25hCollecting retworkx>=0.11.0\n",
            "  Downloading retworkx-0.12.1-py3-none-any.whl (10 kB)\n",
            "Collecting stevedore>=3.0.0\n",
            "  Downloading stevedore-4.1.1-py3-none-any.whl (50 kB)\n",
            "\u001b[K     |████████████████████████████████| 50 kB 3.6 MB/s \n",
            "\u001b[?25hRequirement already satisfied: six>=1.5 in /usr/local/lib/python3.8/dist-packages (from python-dateutil>=2.8.0->qiskit-ibmq-provider==0.19.2->qiskit) (1.15.0)\n",
            "Requirement already satisfied: idna<3,>=2.5 in /usr/local/lib/python3.8/dist-packages (from requests>=2.19->qiskit-ibmq-provider==0.19.2->qiskit) (2.10)\n",
            "Requirement already satisfied: certifi>=2017.4.17 in /usr/local/lib/python3.8/dist-packages (from requests>=2.19->qiskit-ibmq-provider==0.19.2->qiskit) (2022.9.24)\n",
            "Requirement already satisfied: chardet<4,>=3.0.2 in /usr/local/lib/python3.8/dist-packages (from requests>=2.19->qiskit-ibmq-provider==0.19.2->qiskit) (3.0.4)\n",
            "Collecting ntlm-auth>=1.0.2\n",
            "  Downloading ntlm_auth-1.5.0-py2.py3-none-any.whl (29 kB)\n",
            "Collecting cryptography>=1.3\n",
            "  Downloading cryptography-38.0.4-cp36-abi3-manylinux_2_24_x86_64.whl (4.0 MB)\n",
            "\u001b[K     |████████████████████████████████| 4.0 MB 29.7 MB/s \n",
            "\u001b[?25hRequirement already satisfied: cffi>=1.12 in /usr/local/lib/python3.8/dist-packages (from cryptography>=1.3->requests-ntlm>=1.1.0->qiskit-ibmq-provider==0.19.2->qiskit) (1.15.1)\n",
            "Requirement already satisfied: pycparser in /usr/local/lib/python3.8/dist-packages (from cffi>=1.12->cryptography>=1.3->requests-ntlm>=1.1.0->qiskit-ibmq-provider==0.19.2->qiskit) (2.21)\n",
            "Collecting rustworkx==0.12.1\n",
            "  Downloading rustworkx-0.12.1-cp38-cp38-manylinux_2_17_x86_64.manylinux2014_x86_64.whl (1.9 MB)\n",
            "\u001b[K     |████████████████████████████████| 1.9 MB 60.1 MB/s \n",
            "\u001b[?25hCollecting pbr!=2.1.0,>=2.0.0\n",
            "  Downloading pbr-5.11.0-py2.py3-none-any.whl (112 kB)\n",
            "\u001b[K     |████████████████████████████████| 112 kB 58.5 MB/s \n",
            "\u001b[?25hRequirement already satisfied: mpmath>=0.19 in /usr/local/lib/python3.8/dist-packages (from sympy>=1.3->qiskit-terra==0.22.3->qiskit) (1.2.1)\n",
            "Building wheels for collected packages: qiskit\n",
            "  Building wheel for qiskit (setup.py) ... \u001b[?25l\u001b[?25hdone\n",
            "  Created wheel for qiskit: filename=qiskit-0.39.3-py3-none-any.whl size=12262 sha256=41e186b1b52dd055437c1c2fc3736111bb7a0d79f8b98b4ce77887e5d9839226\n",
            "  Stored in directory: /root/.cache/pip/wheels/46/24/40/7b6f21f2280d902749c203be80d69c7d1a95ece4602f37c246\n",
            "Successfully built qiskit\n",
            "Installing collected packages: rustworkx, pbr, tweedledum, symengine, stevedore, retworkx, ply, ntlm-auth, cryptography, websockets, websocket-client, requests-ntlm, qiskit-terra, qiskit-ibmq-provider, qiskit-aer, qiskit\n",
            "Successfully installed cryptography-38.0.4 ntlm-auth-1.5.0 pbr-5.11.0 ply-3.11 qiskit-0.39.3 qiskit-aer-0.11.1 qiskit-ibmq-provider-0.19.2 qiskit-terra-0.22.3 requests-ntlm-1.1.0 retworkx-0.12.1 rustworkx-0.12.1 stevedore-4.1.1 symengine-0.9.2 tweedledum-1.1.1 websocket-client-1.4.2 websockets-10.4\n"
          ]
        }
      ]
    },
    {
      "cell_type": "code",
      "source": [
        "'''\n",
        "    Deutsch-Jozsa Algorithm\n",
        "    Consider a function f(x) that takes as input n-bit strings x and returns 0 or 1. Suppose we are\n",
        "    promised that f(x) is either a constant function that takes the same value c in {0,1} on all\n",
        "    inputs x, or a balanced function that takes each value 0 and 1 on exactly half of the inputs. \n",
        "    The goal is to decide whether f is constant or balanced by making as few function evaluations \n",
        "    as possible. Classically, it requires 2^{n-1}+1 function evaluations in the worst case. Using \n",
        "    the Deutsch-Jozsa algorithm, the question can be answered with just one function evaluation.\n",
        "    \n",
        "    Deutsch's algorithm is the simpler case of Deutsch-Jozsa Algorithm which has a function f(x) \n",
        "    which takes 1-bit as input.\n",
        "    Source: https://github.com/Qiskit/ibmqx-user-guides/blob/master/rst/full-user-guide/004-Quantum_Algorithms/080-Deutsch-Jozsa_Algorithm.rst\n",
        "'''\n",
        "from qiskit import IBMQ, BasicAer\n",
        "from qiskit.providers.ibmq import least_busy\n",
        "from qiskit import QuantumCircuit, ClassicalRegister, QuantumRegister, execute\n",
        "from qiskit.tools.monitor import job_monitor\n",
        "\n",
        "qr = QuantumRegister(2)  # Initialize two qubits\n",
        "cr = ClassicalRegister(2)  # Initialize two bits for record measurements\n",
        "circuit = QuantumCircuit(qr, cr)\n",
        "\n",
        "circuit.x(qr[1])  # initialize the ancilla qubit in the |1> state\n",
        "\n",
        "circuit.barrier()\n",
        "\n",
        "# First step of quantum algorithms - Prepare the superposition\n",
        "# For superposition, we apply the Hadamard gate on both qubits\n",
        "circuit.h(qr[0])\n",
        "circuit.h(qr[1])\n",
        "\n",
        "circuit.barrier()\n",
        "\n",
        "# Oracle function\n",
        "circuit.cx(qr[0], qr[1])\n",
        "\n",
        "circuit.barrier()\n",
        "\n",
        "# Apply Hadamard gates after querying oracle function\n",
        "circuit.h(qr[0])\n",
        "circuit.h(qr[1])\n",
        "\n",
        "circuit.barrier()\n",
        "\n",
        "# Measure qubit\n",
        "circuit.measure(qr[0], cr[0])\n",
        "\n",
        "# Run our circuit with local simulator\n",
        "backend = BasicAer.get_backend('qasm_simulator')\n",
        "shots = 1024\n",
        "results = execute(circuit, backend=backend, shots=shots).result()\n",
        "answer = results.get_counts()\n",
        "print(\"Simulator result\")\n",
        "for c1c0 in answer:\n",
        "    print(f'c0 = {c1c0[1]} ({answer[c1c0]} shots)')\n",
        "# C0 observed as 1 in 1024 shots\n",
        "# It indicates f(0) != f(1)\n",
        "\n",
        "# # Run our circuit with real devices\n",
        "# IBMQ.load_account()\n",
        "# IBMQ.backends()\n",
        "# backend_lb = least_busy(IBMQ.backends(simulator=False))\n",
        "# backend = backend_lb\n",
        "# shots = 1024\n",
        "# job_exp = execute(circuit, backend=backend, shots=shots)\n",
        "# job_monitor(job_exp, interval=2)\n",
        "# results = job_exp.result()\n",
        "# answer = results.get_counts(circuit)\n",
        "# print(\"Real Device Result\")\n",
        "# for c1c0 in answer:\n",
        "#     print(f'c0 = {c1c0[1]} ({answer[c1c0]} shots)')\n",
        "# As we can see in results, most of the results for C0 is 1\n",
        "# It indicates f(0) != f(1)\n",
        "# The results with C0 = 0 occur due to errors in the quantum computation."
      ],
      "metadata": {
        "colab": {
          "base_uri": "https://localhost:8080/"
        },
        "id": "spGxYAaiAjqX",
        "outputId": "141f4817-6cdc-4d9f-a5b9-9c9fbe1cb93b"
      },
      "execution_count": null,
      "outputs": [
        {
          "output_type": "stream",
          "name": "stdout",
          "text": [
            "Simulator result\n",
            "c0 = 1 (1024 shots)\n"
          ]
        }
      ]
    },
    {
      "cell_type": "code",
      "source": [
        "!pip install cirq"
      ],
      "metadata": {
        "id": "Cek6mXTrF_ko"
      },
      "execution_count": null,
      "outputs": []
    },
    {
      "cell_type": "code",
      "source": [
        "# pylint: disable=wrong-or-nonexistent-copyright-notice\n",
        "\"\"\"Demonstrates Deutsch's algorithm.\n",
        "Deutsch's algorithm is one of the simplest demonstrations of quantum parallelism\n",
        "and interference. It takes a black-box oracle implementing a Boolean function\n",
        "f(x), and determines whether f(0) and f(1) have the same parity using just one\n",
        "query.  This version of Deutsch's algorithm is a simplified and improved version\n",
        "from Nielsen and Chuang's textbook.\n",
        "=== REFERENCE ===\n",
        "https://en.wikipedia.org/wiki/Deutsch–Jozsa_algorithm\n",
        "Deutsch, David. \"Quantum theory, the Church-Turing Principle and the universal\n",
        "quantum computer.\" Proc. R. Soc. Lond. A, 400:97, 1985.\n",
        "=== EXAMPLE OUTPUT ===\n",
        "Secret function:\n",
        "f(x) = <0, 1>\n",
        "Circuit:\n",
        "0: ───────H───@───H───M('result')───\n",
        "              │\n",
        "1: ───X───H───X─────────────────────\n",
        "Result f(0)⊕f(1):\n",
        "result=1\n",
        "\"\"\"\n",
        "\n",
        "import random\n",
        "\n",
        "import cirq\n",
        "from cirq import H, X, CNOT, measure\n",
        "\n",
        "\n",
        "def main():\n",
        "    # Choose qubits to use.\n",
        "    q0, q1 = cirq.LineQubit.range(2)\n",
        "\n",
        "    # Pick a secret 2-bit function and create a circuit to query the oracle.\n",
        "    secret_function = [random.randint(0, 1) for _ in range(2)]\n",
        "    oracle = make_oracle(q0, q1, secret_function)\n",
        "    print(f\"Secret function:\\nf(x) = <{', '.join(str(e) for e in secret_function)}>\")\n",
        "\n",
        "    # Embed the oracle into a quantum circuit querying it exactly once.\n",
        "    circuit = make_deutsch_circuit(q0, q1, oracle)\n",
        "    print('Circuit:')\n",
        "    print(circuit)\n",
        "\n",
        "    # Simulate the circuit.\n",
        "    # simulator = cirq.Simulator()\n",
        "    # result = simulator.run(circuit)\n",
        "    print('Result of f(0)⊕f(1):')\n",
        "    # print(result)\n",
        "\n",
        "\n",
        "def make_oracle(q0, q1, secret_function):\n",
        "    \"\"\"Gates implementing the secret function f(x).\"\"\"\n",
        "\n",
        "    # coverage: ignore\n",
        "    if secret_function[0]:\n",
        "        yield [CNOT(q0, q1), X(q1)]\n",
        "\n",
        "    if secret_function[1]:\n",
        "        yield CNOT(q0, q1)\n",
        "\n",
        "\n",
        "def make_deutsch_circuit(q0, q1, oracle):\n",
        "    # c = cirq.Circuit()\n",
        "\n",
        "    # Initialize qubits.\n",
        "    # c.append([X(q1), H(q1), H(q0)])\n",
        "    listStates = []\n",
        "    listStates.append([X(q1), H(q1), H(q0)])\n",
        "    # Query oracle.\n",
        "    # c.append(oracle)\n",
        "    listStates.append(oracle)\n",
        "\n",
        "    # Measure in X basis.\n",
        "    listStates.append([H(q0)])\n",
        "    return listStates\n",
        "\n",
        "\n",
        "if __name__ == '__main__':\n",
        "    main()"
      ],
      "metadata": {
        "colab": {
          "base_uri": "https://localhost:8080/"
        },
        "id": "5ud0Ao8dF7vi",
        "outputId": "8d260896-21f7-4841-f0bc-8d1cd2fbe572"
      },
      "execution_count": null,
      "outputs": [
        {
          "output_type": "stream",
          "name": "stdout",
          "text": [
            "Secret function:\n",
            "f(x) = <0, 1>\n",
            "Circuit:\n",
            "[[cirq.X(cirq.LineQubit(1)), cirq.H(cirq.LineQubit(1)), cirq.H(cirq.LineQubit(0))], <generator object make_oracle at 0x7f3abd329970>, [cirq.H(cirq.LineQubit(0))]]\n",
            "Result of f(0)⊕f(1):\n"
          ]
        }
      ]
    },
    {
      "cell_type": "code",
      "source": [
        "!pip install cirq"
      ],
      "metadata": {
        "colab": {
          "base_uri": "https://localhost:8080/"
        },
        "id": "Gqgs-IV7OacX",
        "outputId": "9f8a9d67-5016-4eda-a019-3643498c0662"
      },
      "execution_count": null,
      "outputs": [
        {
          "output_type": "stream",
          "name": "stdout",
          "text": [
            "Looking in indexes: https://pypi.org/simple, https://us-python.pkg.dev/colab-wheels/public/simple/\n",
            "Requirement already satisfied: cirq in /usr/local/lib/python3.8/dist-packages (1.0.0)\n",
            "Requirement already satisfied: cirq-google==1.0.0 in /usr/local/lib/python3.8/dist-packages (from cirq) (1.0.0)\n",
            "Requirement already satisfied: cirq-aqt==1.0.0 in /usr/local/lib/python3.8/dist-packages (from cirq) (1.0.0)\n",
            "Requirement already satisfied: cirq-rigetti==1.0.0 in /usr/local/lib/python3.8/dist-packages (from cirq) (1.0.0)\n",
            "Requirement already satisfied: cirq-web==1.0.0 in /usr/local/lib/python3.8/dist-packages (from cirq) (1.0.0)\n",
            "Requirement already satisfied: cirq-pasqal==1.0.0 in /usr/local/lib/python3.8/dist-packages (from cirq) (1.0.0)\n",
            "Requirement already satisfied: cirq-ionq==1.0.0 in /usr/local/lib/python3.8/dist-packages (from cirq) (1.0.0)\n",
            "Requirement already satisfied: cirq-core==1.0.0 in /usr/local/lib/python3.8/dist-packages (from cirq) (1.0.0)\n",
            "Requirement already satisfied: requests~=2.18 in /usr/local/lib/python3.8/dist-packages (from cirq-aqt==1.0.0->cirq) (2.23.0)\n",
            "Requirement already satisfied: sympy in /usr/local/lib/python3.8/dist-packages (from cirq-core==1.0.0->cirq) (1.7.1)\n",
            "Requirement already satisfied: numpy~=1.16 in /usr/local/lib/python3.8/dist-packages (from cirq-core==1.0.0->cirq) (1.21.6)\n",
            "Requirement already satisfied: tqdm in /usr/local/lib/python3.8/dist-packages (from cirq-core==1.0.0->cirq) (4.64.1)\n",
            "Requirement already satisfied: sortedcontainers~=2.0 in /usr/local/lib/python3.8/dist-packages (from cirq-core==1.0.0->cirq) (2.4.0)\n",
            "Requirement already satisfied: matplotlib~=3.0 in /usr/local/lib/python3.8/dist-packages (from cirq-core==1.0.0->cirq) (3.2.2)\n",
            "Requirement already satisfied: networkx~=2.4 in /usr/local/lib/python3.8/dist-packages (from cirq-core==1.0.0->cirq) (2.6.3)\n",
            "Requirement already satisfied: pandas in /usr/local/lib/python3.8/dist-packages (from cirq-core==1.0.0->cirq) (1.3.5)\n",
            "Requirement already satisfied: scipy in /usr/local/lib/python3.8/dist-packages (from cirq-core==1.0.0->cirq) (1.7.3)\n",
            "Requirement already satisfied: duet~=0.2.7 in /usr/local/lib/python3.8/dist-packages (from cirq-core==1.0.0->cirq) (0.2.7)\n",
            "Requirement already satisfied: typing-extensions in /usr/local/lib/python3.8/dist-packages (from cirq-core==1.0.0->cirq) (4.1.1)\n",
            "Requirement already satisfied: proto-plus>=1.20.0 in /usr/local/lib/python3.8/dist-packages (from cirq-google==1.0.0->cirq) (1.22.1)\n",
            "Requirement already satisfied: google-api-core[grpc]<2.0.0dev,>=1.14.0 in /usr/local/lib/python3.8/dist-packages (from cirq-google==1.0.0->cirq) (1.34.0)\n",
            "Requirement already satisfied: protobuf<4,>=3.15.0 in /usr/local/lib/python3.8/dist-packages (from cirq-google==1.0.0->cirq) (3.19.6)\n",
            "Requirement already satisfied: pyquil>=3.0.0 in /usr/local/lib/python3.8/dist-packages (from cirq-rigetti==1.0.0->cirq) (3.3.2)\n",
            "Requirement already satisfied: google-auth<3.0dev,>=1.25.0 in /usr/local/lib/python3.8/dist-packages (from google-api-core[grpc]<2.0.0dev,>=1.14.0->cirq-google==1.0.0->cirq) (2.14.1)\n",
            "Requirement already satisfied: googleapis-common-protos<2.0dev,>=1.56.2 in /usr/local/lib/python3.8/dist-packages (from google-api-core[grpc]<2.0.0dev,>=1.14.0->cirq-google==1.0.0->cirq) (1.57.0)\n",
            "Requirement already satisfied: grpcio<2.0dev,>=1.33.2 in /usr/local/lib/python3.8/dist-packages (from google-api-core[grpc]<2.0.0dev,>=1.14.0->cirq-google==1.0.0->cirq) (1.50.0)\n",
            "Requirement already satisfied: grpcio-status<2.0dev,>=1.33.2 in /usr/local/lib/python3.8/dist-packages (from google-api-core[grpc]<2.0.0dev,>=1.14.0->cirq-google==1.0.0->cirq) (1.48.2)\n",
            "Requirement already satisfied: six>=1.9.0 in /usr/local/lib/python3.8/dist-packages (from google-auth<3.0dev,>=1.25.0->google-api-core[grpc]<2.0.0dev,>=1.14.0->cirq-google==1.0.0->cirq) (1.15.0)\n",
            "Requirement already satisfied: cachetools<6.0,>=2.0.0 in /usr/local/lib/python3.8/dist-packages (from google-auth<3.0dev,>=1.25.0->google-api-core[grpc]<2.0.0dev,>=1.14.0->cirq-google==1.0.0->cirq) (5.2.0)\n",
            "Requirement already satisfied: rsa<5,>=3.1.4 in /usr/local/lib/python3.8/dist-packages (from google-auth<3.0dev,>=1.25.0->google-api-core[grpc]<2.0.0dev,>=1.14.0->cirq-google==1.0.0->cirq) (4.9)\n",
            "Requirement already satisfied: pyasn1-modules>=0.2.1 in /usr/local/lib/python3.8/dist-packages (from google-auth<3.0dev,>=1.25.0->google-api-core[grpc]<2.0.0dev,>=1.14.0->cirq-google==1.0.0->cirq) (0.2.8)\n",
            "Requirement already satisfied: pyparsing!=2.0.4,!=2.1.2,!=2.1.6,>=2.0.1 in /usr/local/lib/python3.8/dist-packages (from matplotlib~=3.0->cirq-core==1.0.0->cirq) (3.0.9)\n",
            "Requirement already satisfied: python-dateutil>=2.1 in /usr/local/lib/python3.8/dist-packages (from matplotlib~=3.0->cirq-core==1.0.0->cirq) (2.8.2)\n",
            "Requirement already satisfied: kiwisolver>=1.0.1 in /usr/local/lib/python3.8/dist-packages (from matplotlib~=3.0->cirq-core==1.0.0->cirq) (1.4.4)\n",
            "Requirement already satisfied: cycler>=0.10 in /usr/local/lib/python3.8/dist-packages (from matplotlib~=3.0->cirq-core==1.0.0->cirq) (0.11.0)\n",
            "Requirement already satisfied: pyasn1<0.5.0,>=0.4.6 in /usr/local/lib/python3.8/dist-packages (from pyasn1-modules>=0.2.1->google-auth<3.0dev,>=1.25.0->google-api-core[grpc]<2.0.0dev,>=1.14.0->cirq-google==1.0.0->cirq) (0.4.8)\n",
            "Requirement already satisfied: retry<0.10.0,>=0.9.2 in /usr/local/lib/python3.8/dist-packages (from pyquil>=3.0.0->cirq-rigetti==1.0.0->cirq) (0.9.2)\n",
            "Requirement already satisfied: rpcq<4.0.0,>=3.10.0 in /usr/local/lib/python3.8/dist-packages (from pyquil>=3.0.0->cirq-rigetti==1.0.0->cirq) (3.10.0)\n",
            "Requirement already satisfied: types-python-dateutil<3.0.0,>=2.8.19 in /usr/local/lib/python3.8/dist-packages (from pyquil>=3.0.0->cirq-rigetti==1.0.0->cirq) (2.8.19.4)\n",
            "Requirement already satisfied: lark<0.12.0,>=0.11.1 in /usr/local/lib/python3.8/dist-packages (from pyquil>=3.0.0->cirq-rigetti==1.0.0->cirq) (0.11.3)\n",
            "Requirement already satisfied: types-retry<0.10.0,>=0.9.9 in /usr/local/lib/python3.8/dist-packages (from pyquil>=3.0.0->cirq-rigetti==1.0.0->cirq) (0.9.9)\n",
            "Requirement already satisfied: qcs-api-client<0.22.0,>=0.21.0 in /usr/local/lib/python3.8/dist-packages (from pyquil>=3.0.0->cirq-rigetti==1.0.0->cirq) (0.21.2)\n",
            "Requirement already satisfied: pydantic<2.0.0,>=1.7.2 in /usr/local/lib/python3.8/dist-packages (from qcs-api-client<0.22.0,>=0.21.0->pyquil>=3.0.0->cirq-rigetti==1.0.0->cirq) (1.10.2)\n",
            "Requirement already satisfied: retrying<2.0.0,>=1.3.3 in /usr/local/lib/python3.8/dist-packages (from qcs-api-client<0.22.0,>=0.21.0->pyquil>=3.0.0->cirq-rigetti==1.0.0->cirq) (1.3.4)\n",
            "Requirement already satisfied: attrs<21.0.0,>=20.1.0 in /usr/local/lib/python3.8/dist-packages (from qcs-api-client<0.22.0,>=0.21.0->pyquil>=3.0.0->cirq-rigetti==1.0.0->cirq) (20.3.0)\n",
            "Requirement already satisfied: PyJWT<3.0.0,>=2.4.0 in /usr/local/lib/python3.8/dist-packages (from qcs-api-client<0.22.0,>=0.21.0->pyquil>=3.0.0->cirq-rigetti==1.0.0->cirq) (2.6.0)\n",
            "Requirement already satisfied: toml<0.11.0,>=0.10.2 in /usr/local/lib/python3.8/dist-packages (from qcs-api-client<0.22.0,>=0.21.0->pyquil>=3.0.0->cirq-rigetti==1.0.0->cirq) (0.10.2)\n",
            "Requirement already satisfied: iso8601<2.0.0,>=1.0.2 in /usr/local/lib/python3.8/dist-packages (from qcs-api-client<0.22.0,>=0.21.0->pyquil>=3.0.0->cirq-rigetti==1.0.0->cirq) (1.1.0)\n",
            "Requirement already satisfied: rfc3339<7.0,>=6.2 in /usr/local/lib/python3.8/dist-packages (from qcs-api-client<0.22.0,>=0.21.0->pyquil>=3.0.0->cirq-rigetti==1.0.0->cirq) (6.2)\n",
            "Requirement already satisfied: httpx<0.24.0,>=0.23.0 in /usr/local/lib/python3.8/dist-packages (from qcs-api-client<0.22.0,>=0.21.0->pyquil>=3.0.0->cirq-rigetti==1.0.0->cirq) (0.23.1)\n",
            "Requirement already satisfied: httpcore<0.17.0,>=0.15.0 in /usr/local/lib/python3.8/dist-packages (from httpx<0.24.0,>=0.23.0->qcs-api-client<0.22.0,>=0.21.0->pyquil>=3.0.0->cirq-rigetti==1.0.0->cirq) (0.16.2)\n",
            "Requirement already satisfied: rfc3986[idna2008]<2,>=1.3 in /usr/local/lib/python3.8/dist-packages (from httpx<0.24.0,>=0.23.0->qcs-api-client<0.22.0,>=0.21.0->pyquil>=3.0.0->cirq-rigetti==1.0.0->cirq) (1.5.0)\n",
            "Requirement already satisfied: certifi in /usr/local/lib/python3.8/dist-packages (from httpx<0.24.0,>=0.23.0->qcs-api-client<0.22.0,>=0.21.0->pyquil>=3.0.0->cirq-rigetti==1.0.0->cirq) (2022.9.24)\n",
            "Requirement already satisfied: sniffio in /usr/local/lib/python3.8/dist-packages (from httpx<0.24.0,>=0.23.0->qcs-api-client<0.22.0,>=0.21.0->pyquil>=3.0.0->cirq-rigetti==1.0.0->cirq) (1.3.0)\n",
            "Requirement already satisfied: h11<0.15,>=0.13 in /usr/local/lib/python3.8/dist-packages (from httpcore<0.17.0,>=0.15.0->httpx<0.24.0,>=0.23.0->qcs-api-client<0.22.0,>=0.21.0->pyquil>=3.0.0->cirq-rigetti==1.0.0->cirq) (0.14.0)\n",
            "Requirement already satisfied: anyio<5.0,>=3.0 in /usr/local/lib/python3.8/dist-packages (from httpcore<0.17.0,>=0.15.0->httpx<0.24.0,>=0.23.0->qcs-api-client<0.22.0,>=0.21.0->pyquil>=3.0.0->cirq-rigetti==1.0.0->cirq) (3.6.2)\n",
            "Requirement already satisfied: idna>=2.8 in /usr/local/lib/python3.8/dist-packages (from anyio<5.0,>=3.0->httpcore<0.17.0,>=0.15.0->httpx<0.24.0,>=0.23.0->qcs-api-client<0.22.0,>=0.21.0->pyquil>=3.0.0->cirq-rigetti==1.0.0->cirq) (2.10)\n",
            "Requirement already satisfied: chardet<4,>=3.0.2 in /usr/local/lib/python3.8/dist-packages (from requests~=2.18->cirq-aqt==1.0.0->cirq) (3.0.4)\n",
            "Requirement already satisfied: urllib3!=1.25.0,!=1.25.1,<1.26,>=1.21.1 in /usr/local/lib/python3.8/dist-packages (from requests~=2.18->cirq-aqt==1.0.0->cirq) (1.24.3)\n",
            "Requirement already satisfied: decorator>=3.4.2 in /usr/local/lib/python3.8/dist-packages (from retry<0.10.0,>=0.9.2->pyquil>=3.0.0->cirq-rigetti==1.0.0->cirq) (4.4.2)\n",
            "Requirement already satisfied: py<2.0.0,>=1.4.26 in /usr/local/lib/python3.8/dist-packages (from retry<0.10.0,>=0.9.2->pyquil>=3.0.0->cirq-rigetti==1.0.0->cirq) (1.11.0)\n",
            "Requirement already satisfied: python-rapidjson in /usr/local/lib/python3.8/dist-packages (from rpcq<4.0.0,>=3.10.0->pyquil>=3.0.0->cirq-rigetti==1.0.0->cirq) (1.9)\n",
            "Requirement already satisfied: pyzmq>=17 in /usr/local/lib/python3.8/dist-packages (from rpcq<4.0.0,>=3.10.0->pyquil>=3.0.0->cirq-rigetti==1.0.0->cirq) (23.2.1)\n",
            "Requirement already satisfied: ruamel.yaml in /usr/local/lib/python3.8/dist-packages (from rpcq<4.0.0,>=3.10.0->pyquil>=3.0.0->cirq-rigetti==1.0.0->cirq) (0.17.21)\n",
            "Requirement already satisfied: msgpack<1.0,>=0.6 in /usr/local/lib/python3.8/dist-packages (from rpcq<4.0.0,>=3.10.0->pyquil>=3.0.0->cirq-rigetti==1.0.0->cirq) (0.6.2)\n",
            "Requirement already satisfied: pytz>=2017.3 in /usr/local/lib/python3.8/dist-packages (from pandas->cirq-core==1.0.0->cirq) (2022.6)\n",
            "Requirement already satisfied: ruamel.yaml.clib>=0.2.6 in /usr/local/lib/python3.8/dist-packages (from ruamel.yaml->rpcq<4.0.0,>=3.10.0->pyquil>=3.0.0->cirq-rigetti==1.0.0->cirq) (0.2.7)\n",
            "Requirement already satisfied: mpmath>=0.19 in /usr/local/lib/python3.8/dist-packages (from sympy->cirq-core==1.0.0->cirq) (1.2.1)\n"
          ]
        }
      ]
    },
    {
      "cell_type": "code",
      "source": [
        "# pylint: disable=wrong-or-nonexistent-copyright-notice\n",
        "\"\"\"Demonstrates Deutsch's algorithm.\n",
        "Deutsch's algorithm is one of the simplest demonstrations of quantum parallelism\n",
        "and interference. It takes a black-box oracle implementing a Boolean function\n",
        "f(x), and determines whether f(0) and f(1) have the same parity using just one\n",
        "query.  This version of Deutsch's algorithm is a simplified and improved version\n",
        "from Nielsen and Chuang's textbook.\n",
        "=== REFERENCE ===\n",
        "https://en.wikipedia.org/wiki/Deutsch–Jozsa_algorithm\n",
        "Deutsch, David. \"Quantum theory, the Church-Turing Principle and the universal\n",
        "quantum computer.\" Proc. R. Soc. Lond. A, 400:97, 1985.\n",
        "=== EXAMPLE OUTPUT ===\n",
        "Secret function:\n",
        "f(x) = <0, 1>\n",
        "Circuit:\n",
        "0: ───────H───@───H───M('result')───\n",
        "              │\n",
        "1: ───X───H───X─────────────────────\n",
        "Result f(0)⊕f(1):\n",
        "result=1\n",
        "\"\"\"\n",
        "\n",
        "import random\n",
        "\n",
        "import cirq\n",
        "from cirq import H, X, CNOT, measure\n",
        "\n",
        "\n",
        "def main():\n",
        "    # Choose qubits to use.\n",
        "    q0, q1 = cirq.LineQubit.range(2)\n",
        "\n",
        "    # Pick a secret 2-bit function and create a circuit to query the oracle.\n",
        "    secret_function = [random.randint(0, 1) for _ in range(2)]\n",
        "    oracle = make_oracle(q0, q1, secret_function)\n",
        "    print(f\"Secret function:\\nf(x) = <{', '.join(str(e) for e in secret_function)}>\")\n",
        "\n",
        "    # Embed the oracle into a quantum circuit querying it exactly once.\n",
        "    circuit = make_deutsch_circuit(q0, q1, oracle)\n",
        "    print('Circuit:')\n",
        "    print(circuit)\n",
        "\n",
        "    # Simulate the circuit.\n",
        "    simulator = cirq.Simulator()\n",
        "    result = simulator.run(circuit)\n",
        "    print('Result of f(0)⊕f(1):')\n",
        "    print(result)\n",
        "\n",
        "\n",
        "def make_oracle(q0, q1, secret_function):\n",
        "    \"\"\"Gates implementing the secret function f(x).\"\"\"\n",
        "\n",
        "    # coverage: ignore\n",
        "    if secret_function[0]:\n",
        "        yield [CNOT(q0, q1), X(q1)]\n",
        "\n",
        "    if secret_function[1]:\n",
        "        yield CNOT(q0, q1)\n",
        "\n",
        "\n",
        "def make_deutsch_circuit(q0, q1, oracle):\n",
        "    c = cirq.Circuit()\n",
        "\n",
        "    # Initialize qubits.\n",
        "    c.append([X(q1), H(q1), H(q0)])\n",
        "\n",
        "    # Query oracle.\n",
        "    c.append(oracle)\n",
        "\n",
        "    # Measure in X basis.\n",
        "    c.append([H(q0), measure(q0, key='result')])\n",
        "    return c\n",
        "\n",
        "\n",
        "if __name__ == '__main__':\n",
        "    main()"
      ],
      "metadata": {
        "colab": {
          "base_uri": "https://localhost:8080/"
        },
        "id": "oSYMxEjkF9xX",
        "outputId": "dabf1daf-3971-4f6b-b34e-e8e1a88c6621"
      },
      "execution_count": null,
      "outputs": [
        {
          "output_type": "stream",
          "name": "stdout",
          "text": [
            "Secret function:\n",
            "f(x) = <0, 0>\n",
            "Circuit:\n",
            "0: ───H───H───M('result')───\n",
            "\n",
            "1: ───X───H─────────────────\n",
            "Result of f(0)⊕f(1):\n",
            "result=0\n"
          ]
        }
      ]
    }
  ]
}