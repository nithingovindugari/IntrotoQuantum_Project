{
  "nbformat": 4,
  "nbformat_minor": 0,
  "metadata": {
    "colab": {
      "provenance": [],
      "authorship_tag": "ABX9TyM7UIcsoaVGoL2LpIixrSNN",
      "include_colab_link": true
    },
    "kernelspec": {
      "name": "python3",
      "display_name": "Python 3"
    },
    "language_info": {
      "name": "python"
    }
  },
  "cells": [
    {
      "cell_type": "markdown",
      "metadata": {
        "id": "view-in-github",
        "colab_type": "text"
      },
      "source": [
        "<a href=\"https://colab.research.google.com/github/nithingovindugari/IntrotoQuantum_Project/blob/main/Project_Phase2.ipynb\" target=\"_parent\"><img src=\"https://colab.research.google.com/assets/colab-badge.svg\" alt=\"Open In Colab\"/></a>"
      ]
    },
    {
      "cell_type": "code",
      "source": [
        "\n",
        "# Deutsch Algorithm Simulator\n",
        "\n",
        "\n",
        "import numpy as np, math\n",
        "\n",
        "#For Not gate\n",
        "def Xgate(a,b):\n",
        "    matrix = np.array([[float(a)],[float(b)]])\n",
        "    X = np.array([[0,1],[1,0]])\n",
        "    # result = X.dot(matrix)\n",
        "    result = np.matmul(X,matrix)\n",
        "    for i in range(0, len(matrix)):\n",
        "        print('{} {} '.format(X[i],matrix[i]))\n",
        "    print('\\n')       \n",
        "    print(result)\n",
        " \n",
        "# Calling Not Gate \n",
        "print(\"Enter  two values for 1 qubit Not gate\")\n",
        "y = Xgate(int(input(\"Enter the 1 st value  --   \")),\\\n",
        "            int(input('Enter the 2nd value   --   ')))"
      ],
      "metadata": {
        "id": "KyRcQoKtkhEf",
        "colab": {
          "base_uri": "https://localhost:8080/"
        },
        "outputId": "b4793b9f-cbc3-44b3-9ad1-504c52eff41b"
      },
      "execution_count": null,
      "outputs": [
        {
          "output_type": "stream",
          "name": "stdout",
          "text": [
            "Enter  two values for 1 qubit Not gate\n",
            "Enter the 1 st value  --   1\n",
            "Enter the 2nd value   --   0\n",
            "[0 1] [1.] \n",
            "[1 0] [0.] \n",
            "\n",
            "\n",
            "[[0.]\n",
            " [1.]]\n"
          ]
        }
      ]
    },
    {
      "cell_type": "code",
      "source": [
        "#XOR or CNOT Gate\n",
        "import numpy as np, math\n",
        "def XORgate(a,b,c,d):\n",
        "    matrix = np.array([[float(a)],[float(b)],[float(c)],[float(d)]])\n",
        "    XOR = np.array([[1,0,0,0],[0,1,0,0],[0,0,0,1],[0,0,1,0]])\n",
        "    result = np.matmul(XOR,matrix)\n",
        "    for i in range(0, len(matrix)):\n",
        "          print(('{} {} '.format(XOR[i],matrix[i])))\n",
        "    print('\\n')\n",
        "    print(result)\n",
        "\n",
        "print(\"Enter  two values for 2 qubit CNot/XOR gate and it will be in the form of [a,b,c,d]\")\n",
        "y = XORgate((int(input('Enter the 1 st value   --   '))),\\\n",
        "            (int(input('Enter the 2nd value    --   '))), \\\n",
        "            (int(input('Enter the 3rd value    --   '))),\\\n",
        "            (int(input('Enter the 4th  value   --   '))))\n"
      ],
      "metadata": {
        "id": "MIO5LcHwhrU7",
        "colab": {
          "base_uri": "https://localhost:8080/"
        },
        "outputId": "a2c31da3-8f21-4c19-844a-a4e1de1d71ca"
      },
      "execution_count": null,
      "outputs": [
        {
          "output_type": "stream",
          "name": "stdout",
          "text": [
            "Enter  two values for 2 qubit CNot/XOR gate and it will be in the form of [a,b,c,d]\n",
            "Enter the 1 st value   --   1\n",
            "Enter the 2nd value    --   0\n",
            "Enter the 3rd value    --   1\n",
            "Enter the 4th  value   --   0\n",
            "[1 0 0 0] [1.] \n",
            "[0 1 0 0] [0.] \n",
            "[0 0 0 1] [1.] \n",
            "[0 0 1 0] [0.] \n",
            "\n",
            "\n",
            "[[1.]\n",
            " [0.]\n",
            " [0.]\n",
            " [1.]]\n"
          ]
        }
      ]
    },
    {
      "cell_type": "code",
      "source": [
        "#Swap Gate\n",
        "\n",
        "import numpy as np, math\n",
        "def SWAPgate(a,b,c,d):\n",
        "    matrix = np.array([[float(a)],[float(b)],[float(c)],[float(d)]])\n",
        "    SWAP = np.array([[1,0,0,0],[0,0,1,0],[0,1,0,0],[0,0,0,1]])\n",
        "    result = np.matmul(SWAP,matrix)    \n",
        "    for i in range(0, len(matrix)):\n",
        "          print('{} {} '.format(SWAP[i],matrix[i]))\n",
        "    print('\\n')\n",
        "    print(result)\n",
        "\n",
        "#Calling SWAP gate  \n",
        "print(\"Enter  two values for 2 qubit SWAP gate and it will be in the form of [a,b,c,d]\")\n",
        "y = SWAPgate((int(input('Enter the 1 st value   --   '))),\\\n",
        "            (int(input('Enter the 2nd value    --   '))), \\\n",
        "            (int(input('Enter the 3rd value    --   '))),\\\n",
        "            (int(input('Enter the 4 th value   --   '))))"
      ],
      "metadata": {
        "id": "qE1S36jfxMus",
        "colab": {
          "base_uri": "https://localhost:8080/"
        },
        "outputId": "1d2875e5-d948-41f3-ec04-21856118a013"
      },
      "execution_count": null,
      "outputs": [
        {
          "output_type": "stream",
          "name": "stdout",
          "text": [
            "Enter  two values for 2 qubit SWAP gate and it will be in the form of [a,b,c,d]\n",
            "Enter the 1 st value   --   1\n",
            "Enter the 2nd value    --   1\n",
            "Enter the 3rd value    --   0\n",
            "Enter the 4 th value   --   1\n",
            "[1 0 0 0] [1.] \n",
            "[0 0 1 0] [1.] \n",
            "[0 1 0 0] [0.] \n",
            "[0 0 0 1] [1.] \n",
            "\n",
            "\n",
            "[[1.]\n",
            " [0.]\n",
            " [1.]\n",
            " [1.]]\n"
          ]
        }
      ]
    },
    {
      "cell_type": "code",
      "source": [
        "#one qubit phase shift gate\n",
        "import numpy as np, math\n",
        "def onebit_PS(a,b,phi):\n",
        "    matrix = np.array([[float(a)],[float(b)]])\n",
        "    onebit_PS = np.array([[1,0],[0,np.around(np.cos(phi), decimals=5)+1j*np.around(np.sin(phi), decimals=5)]])\n",
        "    result = np.matmul(onebit_PS,matrix)    \n",
        "    for i in range(0, len(matrix)):\n",
        "          print('{} {} '.format(onebit_PS[i],matrix[i]))\n",
        "    print('\\n')\n",
        "    print(result)\n",
        "  \n",
        "\n",
        "#Calling onebit phase shift gate  \n",
        "print(\"Enter  two values for 1 qubit phase shift gate and it will be in the form of [a,b,phase value]\")\n",
        "y = onebit_PS((int(input('Enter the 1 st value   --   '))),\\\n",
        "            (int(input('Enter the 2nd value    --   '))), \\\n",
        "            (float(input('Enter the phase value  --   '))))\n"
      ],
      "metadata": {
        "colab": {
          "base_uri": "https://localhost:8080/"
        },
        "id": "_luQjkOS4e3D",
        "outputId": "06fb7260-9f54-4719-fbf6-244549a8e059"
      },
      "execution_count": null,
      "outputs": [
        {
          "output_type": "stream",
          "name": "stdout",
          "text": [
            "Enter  two values for 1 qubit phase shift gate and it will be in the form of [a,b,phase value]\n",
            "Enter the 1 st value   --   0\n",
            "Enter the 2nd value    --   1\n",
            "Enter the phase value  --   3.14\n",
            "[1.+0.j 0.+0.j] [0.] \n",
            "[ 0.+0.j      -1.+0.00159j] [1.] \n",
            "\n",
            "\n",
            "[[ 0.+0.j     ]\n",
            " [-1.+0.00159j]]\n"
          ]
        }
      ]
    },
    {
      "cell_type": "code",
      "source": [
        "#Two qubit phase shift gate\n",
        "import numpy as np, math\n",
        "def twobit_PS(a,b,c,d,phi):\n",
        "    matrix = np.array([[float(a)],[float(b)],[float(c)],[float(d)]])\n",
        "    twobit_PS = np.array([[1,0,0,0],[0,1,0,0],[0,0,1,0],[0,0,0,np.around(np.cos(phi), decimals=5)+1j*np.around(np.sin(phi), decimals=5)]]) \n",
        "    result = np.matmul(twobit_PS,matrix)\n",
        "    for i in range(0, len(matrix)):\n",
        "        print('{} {} '.format(twobit_PS[i],matrix[i]))\n",
        "    print('\\n')\n",
        "    print(result)\n",
        "\n",
        "print(\"Enter  two values for two qubit phase shift gate and it will be in the form of [a,b,c,d, phase value]\")\n",
        "y = twobit_PS((int(input('Enter the 1st value    --   '))),\\\n",
        "            (int(input('Enter the 2nd value    --   '))), \\\n",
        "            (int(input('Enter the 3rd   value  --   '))),\\\n",
        "            (int(input('Enter the 4th value    --   '))),\\\n",
        "            (float(input('Enter the phase value  --   '))))"
      ],
      "metadata": {
        "id": "wy5-ywuu7v-4",
        "colab": {
          "base_uri": "https://localhost:8080/"
        },
        "outputId": "0e3bf3fd-5bde-499f-a36a-99b3d29a1641"
      },
      "execution_count": null,
      "outputs": [
        {
          "output_type": "stream",
          "name": "stdout",
          "text": [
            "Enter  two values for two qubit phase shift gate and it will be in the form of [a,b,c,d, phase value]\n",
            "Enter the 1st value    --   1\n",
            "Enter the 2nd value    --   0\n",
            "Enter the 3rd   value  --   1\n",
            "Enter the 4th value    --   1\n",
            "Enter the phase value  --   3.14\n",
            "[1.+0.j 0.+0.j 0.+0.j 0.+0.j] [1.] \n",
            "[0.+0.j 1.+0.j 0.+0.j 0.+0.j] [0.] \n",
            "[0.+0.j 0.+0.j 1.+0.j 0.+0.j] [1.] \n",
            "[ 0.+0.j       0.+0.j       0.+0.j      -1.+0.00159j] [1.] \n",
            "\n",
            "\n",
            "[[ 1.+0.j     ]\n",
            " [ 0.+0.j     ]\n",
            " [ 1.+0.j     ]\n",
            " [-1.+0.00159j]]\n"
          ]
        }
      ]
    },
    {
      "cell_type": "code",
      "source": [
        "import numpy as np, math\n",
        "def toffoli(a,b,c,d,e,f,g,h):\n",
        "      matrix = np.array([[float(a)],[float(b)],[float(c)],[float(d)],[float(e)],[float(f)],[float(g)],[float(h)]]) \n",
        "      toffoli = np.array([[1,0,0,0,0,0,0,0],[0,1,0,0,0,0,0,0],[0,0,1,0,0,0,0,0],[0,0,0,1,0,0,0,0],[0,0,0,0,1,0,0,0],[0,0,0,0,0,1,0,0],[0,0,0,0,0,0,0,1],[0,0,0,0,0,0,1,0]])\n",
        "      result = np.matmul(toffoli,matrix)  \n",
        "      for i in range(0, len(matrix)):\n",
        "            print('{} {} '.format(toffoli[i],matrix[i]))\n",
        "      print('\\n')\n",
        "      print(result)\n",
        "print(\"Enter  two values for 3 bit ccnot or toffoli gate and it will be in the form of [a,b,c,d,e,f,g,h]\")\n",
        "y = toffoli((int(input('Enter the 1 st value   --   '))),\\\n",
        "            (int(input('Enter the 2nd value    --   '))), \\\n",
        "            (int(input('Enter the 3rd value    --   '))),\\\n",
        "            (int(input('Enter the 4th value    --   '))),\\\n",
        "            (int(input('Enter the 5th value    --   '))),\\\n",
        "            (int(input('Enter the 6th value    --   '))),\\\n",
        "            (int(input('Enter the 7th value    --   '))),\\\n",
        "            (int(input('Enter the 8th value    --   '))))"
      ],
      "metadata": {
        "id": "UWIDf3h88UK_",
        "colab": {
          "base_uri": "https://localhost:8080/"
        },
        "outputId": "fdb831e4-2b5b-4de5-e74f-1491c105e7a9"
      },
      "execution_count": null,
      "outputs": [
        {
          "output_type": "stream",
          "name": "stdout",
          "text": [
            "Enter  two values for 3 bit ccnot or toffoli gate and it will be in the form of [a,b,c,d,e,f,g,h]\n",
            "Enter the 1 st value   --   0\n",
            "Enter the 2nd value    --   0\n",
            "Enter the 3rd value    --   0\n",
            "Enter the 4th value    --   0\n",
            "Enter the 5th value    --   0\n",
            "Enter the 6th value    --   0\n",
            "Enter the 7th value    --   1\n",
            "Enter the 8th value    --   0\n",
            "[1 0 0 0 0 0 0 0] [0.] \n",
            "[0 1 0 0 0 0 0 0] [0.] \n",
            "[0 0 1 0 0 0 0 0] [0.] \n",
            "[0 0 0 1 0 0 0 0] [0.] \n",
            "[0 0 0 0 1 0 0 0] [0.] \n",
            "[0 0 0 0 0 1 0 0] [0.] \n",
            "[0 0 0 0 0 0 0 1] [1.] \n",
            "[0 0 0 0 0 0 1 0] [0.] \n",
            "\n",
            "\n",
            "[[0.]\n",
            " [0.]\n",
            " [0.]\n",
            " [0.]\n",
            " [0.]\n",
            " [0.]\n",
            " [0.]\n",
            " [1.]]\n"
          ]
        }
      ]
    },
    {
      "cell_type": "code",
      "source": [
        "import numpy as np, math\n",
        "def five_Hgate(a,b,c,d,e,f,g,h,i,j,k,l,m,n,o,p,q,r,s,t,u,v,w,x,y,z,aa,bb,cc,dd,ee,ff):\n",
        "      H = 1/math.sqrt(2)*np.array([[1,1],[1,-1]])\n",
        "      matrix = np.array([[a],[b],[c],[d],[e],[f],[g],[h],[i],[j],[k],[l],[m], \\\n",
        "                         [n],[o],[p],[q],[r],[s],[t],[u],[v],[w],[x],[y],[z], \\\n",
        "                        [aa],[bb],[cc],[dd],[ee],[ff]]) \n",
        "      print(matrix)\n",
        "      five_Hgate = np.kron(H,np.kron(H,np.kron(H,np.kron(H,H))))\n",
        "      result = np.matmul(five_Hgate,matrix)\n",
        "      print('\\n','\\n'\"Find below output where five qubit Hadamard applied to above statp\")\n",
        "      print('\\n',result)\n",
        "print(\"Here standard base input is given as it is very big to take input below and it\\\n",
        " is dynamic and we can change value any time\" )\n",
        "\n",
        "print(\"It will be in the form of Hadamard gate applied to basis state \")    \n",
        "\n",
        "\n",
        "five_Hgate(1,0,0,0,0,0,0,0,0,0,0,0,0,0,0,0,0,0,0,0,0,0,0,0,0,0,0,0,0,0,0,0)\n",
        "\n",
        "\n"
      ],
      "metadata": {
        "id": "wTRWbkDmASXZ"
      },
      "execution_count": null,
      "outputs": []
    },
    {
      "cell_type": "code",
      "source": [
        "# Phase 2 Code"
      ],
      "metadata": {
        "id": "l-n1XBIZMc5Z"
      },
      "execution_count": null,
      "outputs": []
    },
    {
      "cell_type": "code",
      "source": [
        "# AS i have made all the gates runtime and to keep the individuality seperate am re declaring the gates"
      ],
      "metadata": {
        "id": "yh88SNbtMevk"
      },
      "execution_count": null,
      "outputs": []
    },
    {
      "cell_type": "code",
      "source": [
        "import numpy as np, math\n",
        "\n",
        "#Not gate matrix\n",
        "X = np.array([[0,1],[1,0]])               \n",
        "\n",
        "#CNOT or XOR gate matrix\n",
        "XOR = np.array([[1,0,0,0],[0,1,0,0],[0,0,0,1],[0,0,1,0]]) \n",
        "\n",
        "#Identity gate matrix\n",
        "I = np.array([[1,0],[0,1]])\n",
        "\n",
        "#Hadamard gate matrix\n",
        "H = 1/math.sqrt(2)*np.array([[1,1],[1,-1]])   #Hadamard gate\n",
        "\n",
        "#Zero_state\n",
        "base_state = np.array([[1],[0],[0],[0]])\n",
        "\n",
        "#Hadamard gate\n",
        "two_Hgate = np.kron(H,H)                      #Two bit Hadamard gate\n",
        "\n",
        "# As Not gate is 1 qubit gate we need to make it 2 qubit by tensor product wit I\n",
        "\n",
        "#When Identity is in MSB and Not gate is in LSB  ( I ⊗ X)\n",
        "I_tens_X =  np.kron(I,X)\n",
        "\n",
        "#When Not gat is in MSB and Identity is in LSB  ( X ⊗ I )\n",
        "X_tens_I =  np.kron(X,I)\n",
        "\n",
        "#When Hadamard gate is in MSB and Identity is in LSB  ( H ⊗ I )\n",
        "\n",
        "H_tens_I = np.kron(H,I)\n",
        "\n",
        "\n",
        "# We know we have four oracles ( Two constant and Two balanced)\n",
        "\n",
        "# i)   Constant where it always gives zero irrespective of input\n",
        "Oracle1 = np.kron(I,I)  # our oracle circuit for this will be simply an identity\n",
        "\n",
        "# ii)  Constant where it always gives one irrespective of input\n",
        "Oracle2 = I_tens_X  # we flips LSB irrespective of input. A quantum circuit will simply apply a NOT to the LSB\n",
        "\n",
        "#iii)  Balanced where it gives zero as output when input is zero and one when input is one\n",
        "Oracle3 = XOR  # our oracle circuit for this will be control gate \n",
        "               # If MSB is one then it switches the target bit\n",
        "\n",
        "# iv) Balanced where it gives zero as output when input is one and zero when input is one\n",
        "Oracle4 = XOR.dot(I_tens_X)  # our oracle circuit for this will be control gate and Not gate\n",
        "               # If MSB is one then it switches the target bit back to basic state\n",
        "\n",
        "# print(Oracle4)    \n"
      ],
      "metadata": {
        "id": "7JVdXp52NOQq"
      },
      "execution_count": null,
      "outputs": []
    },
    {
      "cell_type": "code",
      "source": [
        "def Deutsch(Oracle_type):\n",
        "  # Initial step is common for all the functions\n",
        "  step1 = two_Hgate.dot(I_tens_X.dot(base_state))\n",
        "  count = 0\n",
        "  MSB_0 = []\n",
        "  MSB_1 = []\n",
        "  print('─' * 25)\n",
        "  print(\"Oracle\")\n",
        "  print(Oracle_type)\n",
        "  for i in range(0,100):\n",
        "    result = H_tens_I.dot(Oracle_type.dot(step1))\n",
        "    if i == 99:\n",
        "      print(\"Result\")\n",
        "      print(result)\n",
        "    if result[2] == 0 and result[3] == 0:\n",
        "      MSB_0.append(1)\n",
        "    else:\n",
        "      MSB_1.append(1)\n",
        "  print(\"MSB = 0 : {} iterations\".format(len(MSB_0)))\n",
        "  print(\"MSB = 1 : {} iterations\".format(len(MSB_1)))\n",
        "  print('─' * 25)\n",
        "\n",
        "\n"
      ],
      "metadata": {
        "id": "OxvSY00Aty-8"
      },
      "execution_count": null,
      "outputs": []
    },
    {
      "cell_type": "code",
      "source": [
        "Deutsch(Oracle1)\n",
        "print(\"MSB is always zero state for constant functions\")\n",
        "Deutsch(Oracle2)\n",
        "print(\"MSB is always zero state for constant functions\")\n",
        "Deutsch(Oracle3)\n",
        "print(\"MSB is always one state for balanced functions\")\n",
        "Deutsch(Oracle4)\n",
        "print(\"MSB is always one state for balanced functions\")"
      ],
      "metadata": {
        "colab": {
          "base_uri": "https://localhost:8080/"
        },
        "id": "FCaM-xe30sWT",
        "outputId": "0268c740-47a1-4f55-cf60-3c28a2f8a5f5"
      },
      "execution_count": null,
      "outputs": [
        {
          "output_type": "stream",
          "name": "stdout",
          "text": [
            "─────────────────────────\n",
            "Oracle\n",
            "[[1 0 0 0]\n",
            " [0 1 0 0]\n",
            " [0 0 1 0]\n",
            " [0 0 0 1]]\n",
            "Result\n",
            "[[ 0.70710678]\n",
            " [-0.70710678]\n",
            " [ 0.        ]\n",
            " [ 0.        ]]\n",
            "MSB = 0 : 100 iterations\n",
            "MSB = 1 : 0 iterations\n",
            "─────────────────────────\n",
            "MSB is always zero state for constant functions\n",
            "─────────────────────────\n",
            "Oracle\n",
            "[[0 1 0 0]\n",
            " [1 0 0 0]\n",
            " [0 0 0 1]\n",
            " [0 0 1 0]]\n",
            "Result\n",
            "[[-0.70710678]\n",
            " [ 0.70710678]\n",
            " [ 0.        ]\n",
            " [ 0.        ]]\n",
            "MSB = 0 : 100 iterations\n",
            "MSB = 1 : 0 iterations\n",
            "─────────────────────────\n",
            "MSB is always zero state for constant functions\n",
            "─────────────────────────\n",
            "Oracle\n",
            "[[1 0 0 0]\n",
            " [0 1 0 0]\n",
            " [0 0 0 1]\n",
            " [0 0 1 0]]\n",
            "Result\n",
            "[[ 0.        ]\n",
            " [ 0.        ]\n",
            " [ 0.70710678]\n",
            " [-0.70710678]]\n",
            "MSB = 0 : 0 iterations\n",
            "MSB = 1 : 100 iterations\n",
            "─────────────────────────\n",
            "MSB is always one state for balanced functions\n",
            "─────────────────────────\n",
            "Oracle\n",
            "[[0 1 0 0]\n",
            " [1 0 0 0]\n",
            " [0 0 1 0]\n",
            " [0 0 0 1]]\n",
            "Result\n",
            "[[ 0.        ]\n",
            " [ 0.        ]\n",
            " [-0.70710678]\n",
            " [ 0.70710678]]\n",
            "MSB = 0 : 0 iterations\n",
            "MSB = 1 : 100 iterations\n",
            "─────────────────────────\n",
            "MSB is always one state for balanced functions\n"
          ]
        }
      ]
    }
  ]
}